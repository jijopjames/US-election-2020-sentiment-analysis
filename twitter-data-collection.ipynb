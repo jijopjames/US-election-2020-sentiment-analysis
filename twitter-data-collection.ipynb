{
 "cells": [
  {
   "cell_type": "code",
   "execution_count": 1,
   "metadata": {},
   "outputs": [],
   "source": [
    "import csv\n",
    "import tweepy\n",
    "import pandas as pd"
   ]
  },
  {
   "cell_type": "code",
   "execution_count": 2,
   "metadata": {},
   "outputs": [],
   "source": [
    "#Twitter Keys and Access Tokens\n",
    "\n",
    "api_key = \"Ruq3ombVVxqBrlZpO25EWXln6\"\n",
    "\n",
    "api_key_secret = \"OZvoioUlBQ5hJbabDQBqKBlS2bSND4P9DJalFYwQMgmeCMsTGE\"\n",
    "\n",
    "access_token = \"722321034-U90pjwxi3QGNBMKD22Dr1oaVNSvdLkSxft1gWKPS\"\n",
    "\n",
    "access_token_secret = \"Fvfr3lNJMsrAzDcV8lF3Nd7Xm9FakyTRoQLWI54oQ0rFA\""
   ]
  },
  {
   "cell_type": "code",
   "execution_count": 3,
   "metadata": {},
   "outputs": [],
   "source": [
    "#Authenticating the twitter API\n",
    "\n",
    "auth = tweepy.OAuthHandler(api_key,api_key_secret)\n",
    "auth.set_access_token(access_token,access_token_secret)\n",
    "api = tweepy.API(auth)\n",
    "api = tweepy.API(auth,wait_on_rate_limit=True)\n"
   ]
  },
  {
   "cell_type": "code",
   "execution_count": 4,
   "metadata": {},
   "outputs": [],
   "source": [
    "#Testing the API connection \n",
    "\n",
    "#user = api.me()\n",
    "#user.name"
   ]
  },
  {
   "cell_type": "code",
   "execution_count": 5,
   "metadata": {},
   "outputs": [],
   "source": [
    "candidate_name = ['realDonaldTrump','JoeBiden']\n",
    "\n",
    "replies_trump = []\n",
    "replies_biden = []\n",
    "\n",
    "\n",
    "for candidate in candidate_name:\n",
    "    for tweet in tweepy.Cursor(api.search,q='to:'+candidate, result_type='recent',timeout=999999).items(10000):\n",
    "        if candidate == \"realDonaldTrump\":\n",
    "            replies_trump.append(tweet)\n",
    "            \n",
    "        elif candidate == \"JoeBiden\":\n",
    "            replies_biden.append(tweet)"
   ]
  },
  {
   "cell_type": "code",
   "execution_count": 6,
   "metadata": {},
   "outputs": [],
   "source": [
    "#converting the files into dataframe and to csv\n",
    "\n",
    "biden_df = pd.DataFrame()\n",
    "trump_df = pd.DataFrame()\n",
    "\n",
    "df_names = ['biden_df','trump_df']\n",
    "\n",
    "for tweet in replies_trump:\n",
    "    row = {'user': tweet.user.screen_name, 'text': tweet.text.replace('\\n', ' ')}\n",
    "    trump_df = trump_df.append(row, ignore_index=True)\n",
    "    trump_df.to_csv(r'data/trump_data.csv')\n",
    "    \n",
    "for tweet in replies_biden:\n",
    "    row = {'user': tweet.user.screen_name, 'text': tweet.text.replace('\\n', ' ')}\n",
    "    biden_df = biden_df.append(row, ignore_index=True)\n",
    "    biden_df.to_csv(r'data/biden_data.csv')\n"
   ]
  },
  {
   "cell_type": "code",
   "execution_count": 7,
   "metadata": {},
   "outputs": [
    {
     "name": "stdout",
     "output_type": "stream",
     "text": [
      "(10000, 2)\n"
     ]
    },
    {
     "data": {
      "text/html": [
       "<div>\n",
       "<style scoped>\n",
       "    .dataframe tbody tr th:only-of-type {\n",
       "        vertical-align: middle;\n",
       "    }\n",
       "\n",
       "    .dataframe tbody tr th {\n",
       "        vertical-align: top;\n",
       "    }\n",
       "\n",
       "    .dataframe thead th {\n",
       "        text-align: right;\n",
       "    }\n",
       "</style>\n",
       "<table border=\"1\" class=\"dataframe\">\n",
       "  <thead>\n",
       "    <tr style=\"text-align: right;\">\n",
       "      <th></th>\n",
       "      <th>text</th>\n",
       "      <th>user</th>\n",
       "    </tr>\n",
       "  </thead>\n",
       "  <tbody>\n",
       "    <tr>\n",
       "      <th>0</th>\n",
       "      <td>RT @itsJeffTiedrich: @realDonaldTrump imagine ...</td>\n",
       "      <td>NikKimmy</td>\n",
       "    </tr>\n",
       "    <tr>\n",
       "      <th>1</th>\n",
       "      <td>@realDonaldTrump https://t.co/qsPFJUGc6d</td>\n",
       "      <td>grandda20593882</td>\n",
       "    </tr>\n",
       "    <tr>\n",
       "      <th>2</th>\n",
       "      <td>@realDonaldTrump What the hell are you talking...</td>\n",
       "      <td>DrKweku</td>\n",
       "    </tr>\n",
       "    <tr>\n",
       "      <th>3</th>\n",
       "      <td>@realDonaldTrump @cspan Joe Biden’s town hall-...</td>\n",
       "      <td>MelieVMelieV</td>\n",
       "    </tr>\n",
       "    <tr>\n",
       "      <th>4</th>\n",
       "      <td>@realDonaldTrump only follows 50 people on Twi...</td>\n",
       "      <td>Yamnek</td>\n",
       "    </tr>\n",
       "  </tbody>\n",
       "</table>\n",
       "</div>"
      ],
      "text/plain": [
       "                                                text             user\n",
       "0  RT @itsJeffTiedrich: @realDonaldTrump imagine ...         NikKimmy\n",
       "1           @realDonaldTrump https://t.co/qsPFJUGc6d  grandda20593882\n",
       "2  @realDonaldTrump What the hell are you talking...          DrKweku\n",
       "3  @realDonaldTrump @cspan Joe Biden’s town hall-...     MelieVMelieV\n",
       "4  @realDonaldTrump only follows 50 people on Twi...           Yamnek"
      ]
     },
     "execution_count": 7,
     "metadata": {},
     "output_type": "execute_result"
    }
   ],
   "source": [
    "#printing out the shape and the dataset \n",
    "\n",
    "print(trump_df.shape)\n",
    "trump_df.head()"
   ]
  },
  {
   "cell_type": "code",
   "execution_count": 8,
   "metadata": {},
   "outputs": [
    {
     "name": "stdout",
     "output_type": "stream",
     "text": [
      "(10000, 2)\n"
     ]
    },
    {
     "data": {
      "text/html": [
       "<div>\n",
       "<style scoped>\n",
       "    .dataframe tbody tr th:only-of-type {\n",
       "        vertical-align: middle;\n",
       "    }\n",
       "\n",
       "    .dataframe tbody tr th {\n",
       "        vertical-align: top;\n",
       "    }\n",
       "\n",
       "    .dataframe thead th {\n",
       "        text-align: right;\n",
       "    }\n",
       "</style>\n",
       "<table border=\"1\" class=\"dataframe\">\n",
       "  <thead>\n",
       "    <tr style=\"text-align: right;\">\n",
       "      <th></th>\n",
       "      <th>text</th>\n",
       "      <th>user</th>\n",
       "    </tr>\n",
       "  </thead>\n",
       "  <tbody>\n",
       "    <tr>\n",
       "      <th>0</th>\n",
       "      <td>RT @Auxyan: @JoeBiden Like the other Communist...</td>\n",
       "      <td>Auxyan</td>\n",
       "    </tr>\n",
       "    <tr>\n",
       "      <th>1</th>\n",
       "      <td>@JoeBiden Like the other Communist Dictators o...</td>\n",
       "      <td>Auxyan</td>\n",
       "    </tr>\n",
       "    <tr>\n",
       "      <th>2</th>\n",
       "      <td>@JoeBiden How about a statement of Hunter's co...</td>\n",
       "      <td>DenisKaluku</td>\n",
       "    </tr>\n",
       "    <tr>\n",
       "      <th>3</th>\n",
       "      <td>@JoeBiden https://t.co/pwuhRa1Bv8</td>\n",
       "      <td>CM23623745</td>\n",
       "    </tr>\n",
       "    <tr>\n",
       "      <th>4</th>\n",
       "      <td>@JoeBiden https://t.co/KnpHIfa2xr</td>\n",
       "      <td>nosnevel</td>\n",
       "    </tr>\n",
       "  </tbody>\n",
       "</table>\n",
       "</div>"
      ],
      "text/plain": [
       "                                                text         user\n",
       "0  RT @Auxyan: @JoeBiden Like the other Communist...       Auxyan\n",
       "1  @JoeBiden Like the other Communist Dictators o...       Auxyan\n",
       "2  @JoeBiden How about a statement of Hunter's co...  DenisKaluku\n",
       "3                  @JoeBiden https://t.co/pwuhRa1Bv8   CM23623745\n",
       "4                  @JoeBiden https://t.co/KnpHIfa2xr     nosnevel"
      ]
     },
     "execution_count": 8,
     "metadata": {},
     "output_type": "execute_result"
    }
   ],
   "source": [
    "print(biden_df.shape)\n",
    "biden_df.head()"
   ]
  }
 ],
 "metadata": {
  "kernelspec": {
   "display_name": "Python 3",
   "language": "python",
   "name": "python3"
  },
  "language_info": {
   "codemirror_mode": {
    "name": "ipython",
    "version": 3
   },
   "file_extension": ".py",
   "mimetype": "text/x-python",
   "name": "python",
   "nbconvert_exporter": "python",
   "pygments_lexer": "ipython3",
   "version": "3.8.3"
  }
 },
 "nbformat": 4,
 "nbformat_minor": 4
}

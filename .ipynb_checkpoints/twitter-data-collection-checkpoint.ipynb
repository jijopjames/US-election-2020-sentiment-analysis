{
 "cells": [
  {
   "cell_type": "code",
   "execution_count": 1,
   "metadata": {},
   "outputs": [],
   "source": [
    "import csv\n",
    "import tweepy\n",
    "import ssl"
   ]
  },
  {
   "cell_type": "code",
   "execution_count": 2,
   "metadata": {},
   "outputs": [],
   "source": [
    "#\n",
    "\n",
    "api_key = \"Ruq3ombVVxqBrlZpO25EWXln6\"\n",
    "\n",
    "api_key_secret = \"OZvoioUlBQ5hJbabDQBqKBlS2bSND4P9DJalFYwQMgmeCMsTGE\"\n",
    "\n",
    "access_token = \"722321034-U90pjwxi3QGNBMKD22Dr1oaVNSvdLkSxft1gWKPS\"\n",
    "\n",
    "access_token_secret = \"Fvfr3lNJMsrAzDcV8lF3Nd7Xm9FakyTRoQLWI54oQ0rFA\""
   ]
  },
  {
   "cell_type": "code",
   "execution_count": 7,
   "metadata": {},
   "outputs": [],
   "source": [
    "#Authenticating the twitter API\n",
    "\n",
    "auth = tweepy.OAuthHandler(api_key,api_key_secret)\n",
    "auth.set_access_token(access_token,access_token_secret)\n",
    "ssl._create_default_https_context = ssl._create_stdlib_context\n",
    "api = tweepy.API(auth)\n",
    "api = tweepy.API(auth,wait_on_rate_limit=True)\n"
   ]
  },
  {
   "cell_type": "code",
   "execution_count": 11,
   "metadata": {},
   "outputs": [],
   "source": [
    "#testing the API connection \n",
    "\n",
    "#user = api.me()\n",
    "#user.name"
   ]
  },
  {
   "cell_type": "code",
   "execution_count": 12,
   "metadata": {},
   "outputs": [],
   "source": [
    "name = ['realDonaldTrump','JoeBiden']\n",
    "\n",
    "tweet_id_trump = ['1316221805133279232','1316188335862247424','1316135797502996481','1315983317620215808','1315403818318925824']\n",
    "\n",
    "tweet_id_biden = ['1316009544481345541','1315823316960120833','1315808217620860930','1315745051515908096','1315079668463284224']"
   ]
  },
  {
   "cell_type": "code",
   "execution_count": null,
   "metadata": {},
   "outputs": [],
   "source": []
  }
 ],
 "metadata": {
  "kernelspec": {
   "display_name": "Python 3",
   "language": "python",
   "name": "python3"
  },
  "language_info": {
   "codemirror_mode": {
    "name": "ipython",
    "version": 3
   },
   "file_extension": ".py",
   "mimetype": "text/x-python",
   "name": "python",
   "nbconvert_exporter": "python",
   "pygments_lexer": "ipython3",
   "version": "3.8.3"
  }
 },
 "nbformat": 4,
 "nbformat_minor": 4
}
